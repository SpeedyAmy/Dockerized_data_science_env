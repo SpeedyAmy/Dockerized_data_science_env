{
 "cells": [
  {
   "cell_type": "code",
   "execution_count": 1,
   "id": "cdb604e8-2df6-480a-9246-433be8114a7d",
   "metadata": {},
   "outputs": [
    {
     "name": "stdout",
     "output_type": "stream",
     "text": [
      "welcome to my data science environement\n"
     ]
    }
   ],
   "source": [
    "print(\"welcome to my data science environement\")"
   ]
  },
  {
   "cell_type": "code",
   "execution_count": null,
   "id": "166913fb-6aa4-47c7-8c72-7f64e3b0dd89",
   "metadata": {},
   "outputs": [],
   "source": []
  }
 ],
 "metadata": {
  "kernelspec": {
   "display_name": "Python 3 (ipykernel)",
   "language": "python",
   "name": "python3"
  },
  "language_info": {
   "codemirror_mode": {
    "name": "ipython",
    "version": 3
   },
   "file_extension": ".py",
   "mimetype": "text/x-python",
   "name": "python",
   "nbconvert_exporter": "python",
   "pygments_lexer": "ipython3",
   "version": "3.9.0"
  }
 },
 "nbformat": 4,
 "nbformat_minor": 5
}
